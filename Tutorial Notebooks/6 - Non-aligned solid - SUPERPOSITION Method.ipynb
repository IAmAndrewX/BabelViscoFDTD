{
 "cells": [
  {
   "cell_type": "markdown",
   "metadata": {},
   "source": [
    "### Preamble\n",
    "Please consult the previous examples for the basics how to run a simulation, understanding of how to prepare correctly the directivity of a source, how to prepare a focusing source and prepare mixed (water-solid) simumlation domain\n",
    "\n",
    "### IMPORTANT - extra Python libraries , suggestion to use Python 3.5 to  3.7 and Linux\n",
    "This notebook uses two extra packages, `pyvista` and `pymesh`. `pyvista` is easy to install via `pip install pyvista` as it is widely available for pretty much for all recent Python versions and OSs.\n",
    "\n",
    "`pymesh` *is a different story*. `pymesh` is a very powerful library that wraps multilple low-level C/C++ libraries for geometrical operations. However, its installation depends on many libraries that normally are all self contained, but by the time of this writing (Jan 2021) its installation from source is not working as it should be. However, there are pre-compiled wheels for Python 3.5 to 3.7 at https://github.com/PyMesh/PyMesh/releases/tag/v0.3. You can install one of the wheels with a command such as:\n",
    "\n",
    "`pip install https://github.com/PyMesh/PyMesh/releases/download/v0.3/pymesh2-0.3-cp37-cp37m-linux_x86_64.whl`\n",
    "\n",
    "The previous command will install `pymesh` for Python 3.7 running in Linux. Most of the available wheels are mostly for Linux , so then it is recommended you use Linux to run this example as we need some 3D geometrical boolean operations.\n",
    "\n",
    "\n",
    "#  Tilted solid surrounded by water\n",
    "\n",
    "This time we simulate the case a block of plastic (1.4 cm-thick) surrounded by water and rotate 20 degrees. We will identify some of the issues associated to staircase artifacts for wtaer-solid boundaries  not aligned to the Cartesian grid. These artifacts can be removed by increasing significantly the resolution, but it entails a high computational costs and memory requirements that quickly may not be satisfied for large domains, as main GPU memory remains always much more limited that main CPU memory.\n",
    "\n",
    "## Use of superposition method to address staircase artifacts\n",
    "\n",
    "We will present how to use the **superposition method** as an alternative that has less memory requirements to improve the precision of simulations.\n",
    "\n",
    "    Drainville, R.A., Curiel, L. and Pichardo, S., 2019. Superposition method for modelling boundaries between media in viscoelastic finite difference time domain simulations. The Journal of the Acoustical Society of America, 146(6), pp.4382-4401. https://asa.scitation.org/doi/abs/10.1121/1.5139221\n",
    "\n",
    "It is highly recommended you read the paper to cover the basics of the method.\n"
   ]
  },
  {
   "cell_type": "code",
   "execution_count": 1,
   "metadata": {},
   "outputs": [
    {
     "name": "stdout",
     "output_type": "stream",
     "text": [
      "StaggeredFDTD_3D_CUDA loaded\n",
      "StaggeredFDTD_3D_OPENCL NOT loaded\n"
     ]
    }
   ],
   "source": [
    "%matplotlib inline\n",
    "from matplotlib import pyplot as plt\n",
    "import numpy as np\n",
    "from SPVirieuxFDTD.H5pySimple import ReadFromH5py,SaveToH5py\n",
    "from SPVirieuxFDTD.PropagationModel import PropagationModel\n",
    "from scipy import ndimage\n",
    "from skimage.draw import circle_perimeter,disk, polygon, polygon2mask\n",
    "from skimage.transform import rotate\n",
    "from ipywidgets import  HBox, VBox, GridBox, Layout, Label, IntSlider, interact,\\\n",
    "    Checkbox,GridspecLayout,interactive, widgets, FloatSlider\n",
    "from IPython.display import display\n",
    "\n",
    "PModel=PropagationModel()\n",
    "\n",
    "import pymesh\n",
    "import pymp\n",
    "import pyvista as pv\n",
    "import pyvistaqt as pvqt"
   ]
  },
  {
   "cell_type": "code",
   "execution_count": 2,
   "metadata": {},
   "outputs": [
    {
     "name": "stdout",
     "output_type": "stream",
     "text": [
      "Domain size 161 161 256\n"
     ]
    },
    {
     "data": {
      "image/png": "[encoded data removed]",
      "text/plain": [
       "<Figure size 432x288 with 1 Axes>"
      ]
     },
     "metadata": {
      "needs_background": "light"
     },
     "output_type": "display_data"
    }
   ],
   "source": [
    "Frequency = 350e3  # Hz\n",
    "WaterSOS = 1500 # m/s - water\n",
    "WaterDensity=1000 # kg/m3\n",
    "\n",
    "#Acryic\n",
    "SolidLSOS = 2848 # m/s - \n",
    "SolidsSOS = 1026 # m/s - \n",
    "SolidDensity=1190 # kg/m3\n",
    "\n",
    "ShortestWavelength =SolidsSOS / Frequency\n",
    "SpatialStep =ShortestWavelength / 8.0 # A minimal step of 6 is recommnded\n",
    "\n",
    "DimDomain =  np.array([0.05,0.05,0.085])  # in m, x,y,z  # in m, x,y,z\n",
    "\n",
    "TxRadius = 0.04 # m, \n",
    "TxDiameter=0.04\n",
    "PMLThickness = 12 # grid points for perect matching layer, HIGHLY RECOMMENDED DO NOT CHANGE THIS SIZE \n",
    "ReflectionLimit= 1.0000e-05 #reflection parameter for PML, HIGHLY RECOMMENDED DO NOT CHANGE THIS VALUE\n",
    "\n",
    "N1=int(np.ceil(DimDomain[0]/SpatialStep)+2*PMLThickness)\n",
    "N2=int(np.ceil(DimDomain[1]/SpatialStep)+2*PMLThickness)\n",
    "N3=int(np.ceil(DimDomain[2]/SpatialStep)+2*PMLThickness)\n",
    "print('Domain size',N1,N2,N3)\n",
    "TimeSimulation=np.sqrt(DimDomain[0]**2+DimDomain[1]**2+DimDomain[2]**2)/(np.mean([SolidsSOS,WaterSOS])) #time to cross one corner to another\n",
    "TemporalStep=5e-8 # if this step is too coarse a warning will be generated (but simulation will continue,) \n",
    "\n",
    "MaterialMap=np.zeros((N1,N2,N3),np.uint32) # note the 32 bit size\n",
    "MaterialList=np.zeros((2,5)) # two materials in this example\n",
    "MaterialList[0,0]=WaterDensity # water density\n",
    "MaterialList[0,1]=WaterSOS # water SoS\n",
    "\n",
    "MaterialList[1,0]=SolidDensity # plastic density\n",
    "MaterialList[1,1]=SolidLSOS # plastic long. SoS\n",
    "MaterialList[1,2]=SolidsSOS # plastic shear SoS\n",
    "\n",
    "#we define two - half spaces\n",
    "\n",
    "AngleInterface=np.deg2rad(20)\n",
    "m=np.sin(AngleInterface)\n",
    "NY3=(N1-1)*m\n",
    "r0=np.array([(N3/2)-60,(N3/2)-60+NY3,(N3/2)+NY3-20, (N3/2)-20])+0.5\n",
    "p0=np.array([0.5,N1-0.5,N1-0.5,0.5])\n",
    "rrcc=polygon(p0,r0)\n",
    "mm=polygon2mask((N1,N3),np.vstack((p0,r0)).T)\n",
    "\n",
    "MaterialMap[:,:,:]=np.tile(np.reshape(mm,[N1,1,N3]),[1,N2,1])\n",
    "\n",
    "plt.figure()\n",
    "plt.imshow(MaterialMap[:,int(N2/2)-10,:].T,cmap=plt.cm.gray);\n",
    "\n",
    "#all other parameters are set to 0 \n"
   ]
  },
  {
   "cell_type": "markdown",
   "metadata": {},
   "source": [
    "We apply the concepts on directivity to model a spherical cap for a focusing source. Below there is a function that uses scikit-image to prepare the mask of a spherical cap and how we can prepare correctly the directivity of each entry in the source mask."
   ]
  },
  {
   "cell_type": "code",
   "execution_count": 3,
   "metadata": {},
   "outputs": [],
   "source": [
    "def MakeFocusingSource(N1,N2,N3,SpatialStep,TxRadius,TxDiameter,Angle):\n",
    "    #simple defintion of a focusing source centred in the domain, \n",
    "    #please note this is not a bullet-proof solution as it may not work for all cases\n",
    "    XDim=np.arange(N1)*SpatialStep\n",
    "    YDim=np.arange(N2)*SpatialStep\n",
    "    ZDim=np.arange(N3)*SpatialStep\n",
    "    XDim-=XDim[int(N1/2)]\n",
    "    YDim-=YDim[int(N2/2)]\n",
    "    ZDim-=ZDim[int(N3/2)]\n",
    "    XX,YY,ZZ=np.meshgrid(YDim,XDim,ZDim)#note we have to invert this because how meshgrid works\n",
    "    Depth=np.sqrt(TxRadius**2-(TxDiameter/2.0)**2)\n",
    "    cX=int(N1/2)\n",
    "    cZ=int(N3/2)\n",
    "    \n",
    "    MaskSource=np.zeros((N1,N2,N3),np.bool)\n",
    "    FillMask=np.zeros((N1,N2,N3))\n",
    "    \n",
    "    for n,y in enumerate(YDim):\n",
    "        if np.abs(y)<TxRadius:\n",
    "            cDiam=int(np.ceil(TxRadius*np.sin(np.arccos(y/TxRadius))/SpatialStep))\n",
    "            rr, cc = circle_perimeter(cX,cZ,cDiam,shape=(N1,N3))\n",
    "            MaskSource[rr,n,cc]=np.True_\n",
    "            rr,cc=disk((cX,cZ),cDiam+1,shape=(N1,N3))\n",
    "            FillMask[rr,n,cc]=1\n",
    "            \n",
    "    \n",
    "    FillMask[ZZ<=-Depth]=0.\n",
    "    #instead of rotating the arc, we rotate the mask that will negate the perimeter to be turned off\n",
    "    if Angle!=0.:\n",
    "        for n in range(N2):\n",
    "            FillMask[:,n,:]=rotate(FillMask[:,n,:],Angle,preserve_range=True)\n",
    "        \n",
    "    MaskSource[FillMask!=0]=False\n",
    "        \n",
    "    #since the sphere mask is 0-centred, the orientation vectors in each point is straighforward\n",
    "    OxOyOz=np.vstack((-XX.flatten(),-YY.flatten(),-ZZ.flatten())).T\n",
    "    #and we just normalize\n",
    "    OxOyOz/=np.tile( np.linalg.norm(OxOyOz,axis=1).reshape(OxOyOz.shape[0],1),[1,3])\n",
    "    Ox=OxOyOz[:,1].reshape(XX.shape) \n",
    "    Oy=OxOyOz[:,0].reshape(XX.shape)\n",
    "    Oz=OxOyOz[:,2].reshape(XX.shape)\n",
    "    Ox[MaskSource==False]=0\n",
    "    Oy[MaskSource==False]=0\n",
    "    Oz[MaskSource==False]=0\n",
    "    return MaskSource.astype(np.uint32),Ox,Oy,Oz"
   ]
  },
  {
   "cell_type": "markdown",
   "metadata": {},
   "source": [
    "We use a rotated focusing source so we can analyze the multiple stress that are generated once the acoustic beam reaches the solid. This time we show both source and layered material to verify the source does not overlap."
   ]
  },
  {
   "cell_type": "code",
   "execution_count": 4,
   "metadata": {
    "scrolled": false
   },
   "outputs": [
    {
     "name": "stderr",
     "output_type": "stream",
     "text": [
      "invalid value encountered in true_divide\n"
     ]
    },
    {
     "data": {
      "image/png": "[encoded data removed]",
      "text/plain": [
       "<Figure size 432x360 with 1 Axes>"
      ]
     },
     "metadata": {
      "needs_background": "light"
     },
     "output_type": "display_data"
    }
   ],
   "source": [
    "SourceMap,Ox,Oy,Oz=MakeFocusingSource(N1,N2,N3,SpatialStep,TxRadius,TxDiameter,0)\n",
    "XDim=(np.arange(N1)*SpatialStep-(PMLThickness+1)*SpatialStep)*100 #cm\n",
    "XDim-=XDim.mean()\n",
    "ZDim=(np.arange(N3)*SpatialStep-(PMLThickness+1)*SpatialStep)*100 #cm\n",
    "plt.figure(figsize=(6,5))\n",
    "plt.imshow(SourceMap[:,int(N2/2),:].T+MaterialMap[:,int(N2/2)-10,:].T,cmap=plt.cm.gray,extent=[XDim.min(),XDim.max(),ZDim.max(),ZDim.min()]);"
   ]
  },
  {
   "cell_type": "code",
   "execution_count": 5,
   "metadata": {},
   "outputs": [
    {
     "data": {
      "image/png": "[encoded data removed]",
      "text/plain": [
       "<Figure size 432x288 with 1 Axes>"
      ]
     },
     "metadata": {
      "needs_background": "light"
     },
     "output_type": "display_data"
    }
   ],
   "source": [
    "LengthSource=4.0/Frequency #we will use 4 pulses\n",
    "TimeVectorSource=np.arange(0,LengthSource+TemporalStep,TemporalStep)\n",
    "\n",
    "PulseSource = np.sin(2*np.pi*Frequency*TimeVectorSource)\n",
    "plt.figure()\n",
    "plt.plot(TimeVectorSource*1e6,PulseSource)\n",
    "plt.title('4-pulse signal')\n",
    "\n",
    "#note we need expressively to arrange the data in a 2D array\n",
    "PulseSource=np.reshape(PulseSource,(1,len(TimeVectorSource))) "
   ]
  },
  {
   "cell_type": "code",
   "execution_count": 6,
   "metadata": {},
   "outputs": [],
   "source": [
    "SensorMap=np.zeros((N1,N2,N3),np.uint32)\n",
    "\n",
    "SensorMap[PMLThickness:-PMLThickness,int(N2/2),PMLThickness:-PMLThickness]=1"
   ]
  },
  {
   "cell_type": "markdown",
   "metadata": {},
   "source": [
    "### Collect stress data\n",
    "So far in the previous examples, we have collected only particle displacement, this time we will specify to collect stress data both for 3D maps and sensor data"
   ]
  },
  {
   "cell_type": "code",
   "execution_count": 7,
   "metadata": {
    "scrolled": false
   },
   "outputs": [
    {
     "name": "stdout",
     "output_type": "stream",
     "text": [
      "VLongInput,VShearInput [1500. 2848.] [   0. 1026.]\n",
      "Q_cw_factor_long,Q_cw_factor_shear [1.] [1.]\n",
      "VLongMat,VShearMat [1500. 2848.] [   0. 1026.]\n",
      "dt,VLongMat,VShearMat,TauLong,TauShear,TauSigma,VLongInput,VShearInput 6.303432725005773e-08 [1500. 2848.] [   0. 1026.] [0.] [0.] [4.54728409e-07] [1500. 2848.] [   0. 1026.]\n",
      "Matrix size= 161 x 161 x 256 , spatial resolution = 0.000366429, time steps = 1389, temporal step = 6.30343e-08, total sonication length 8.75429e-05 \n",
      "Performing Simulation wtih GPU CUDA\n",
      "Running with new interface conditions\n",
      "SizePML=0\n",
      "SizePMLxp1=0\n",
      "SizePMLyp1=0\n",
      "SizePMLzp1=0\n",
      "SizePMLxp1yp1zp1=0\n",
      " Staggered FDTD - compiled at Jan  4 2021 - 19:57:07\n",
      "N1, N2,N3 , ZoneCount and DT= 161,161,256,6.30343e-08\n",
      "Number of sensors , timesteps for sensors and total maps= 31784, 348, 9\n",
      "before cudaGetDeviceCount \n",
      "after cudaGetDeviceCount \n",
      "There is 1 device.\n",
      "Found device [0:0]:\n",
      "  Name: GeForce RTX 2080 SUPER\n",
      "  Compute capability: 7.5\n",
      "  Total memory: 8589934592 bytes\n",
      "  Threads per block: 1024\n",
      "  Max block dimensions: 1024 x 1024 x 64\n",
      "  Max grid size: 2147483647 x 65535 x 65535\n",
      "  Shared memory per block: 49152 bytes\n",
      "  Registers per block: 65536\n",
      "  Selecting device [GeForce RTX 2080 SUPER] for calculations \n",
      "Allocating in GPU for V_x_x 2322585 elem. (nZones=1)\n",
      "Allocating in GPU for V_y_x 2322585 elem. (nZones=1)\n",
      "Allocating in GPU for V_z_x 2322585 elem. (nZones=1)\n",
      "Allocating in GPU for V_x_y 2322585 elem. (nZones=1)\n",
      "Allocating in GPU for V_y_y 2322585 elem. (nZones=1)\n",
      "Allocating in GPU for V_z_y 2322585 elem. (nZones=1)\n",
      "Allocating in GPU for V_x_z 2307290 elem. (nZones=1)\n",
      "Allocating in GPU for V_y_z 2307290 elem. (nZones=1)\n",
      "Allocating in GPU for V_z_z 2307290 elem. (nZones=1)\n",
      "Allocating in GPU for Sigma_x_xx 2281369 elem. (nZones=1)\n",
      "Allocating in GPU for Sigma_y_xx 2281369 elem. (nZones=1)\n",
      "Allocating in GPU for Sigma_z_xx 2281369 elem. (nZones=1)\n",
      "Allocating in GPU for Sigma_x_yy 2281369 elem. (nZones=1)\n",
      "Allocating in GPU for Sigma_y_yy 2281369 elem. (nZones=1)\n",
      "Allocating in GPU for Sigma_z_yy 2281369 elem. (nZones=1)\n",
      "Allocating in GPU for Sigma_x_zz 2281369 elem. (nZones=1)\n",
      "Allocating in GPU for Sigma_y_zz 2281369 elem. (nZones=1)\n",
      "Allocating in GPU for Sigma_z_zz 2281369 elem. (nZones=1)\n",
      "Allocating in GPU for Sigma_x_xy 2390301 elem. (nZones=1)\n",
      "Allocating in GPU for Sigma_y_xy 2390301 elem. (nZones=1)\n",
      "Allocating in GPU for Sigma_x_xz 2390301 elem. (nZones=1)\n",
      "Allocating in GPU for Sigma_z_xz 2390301 elem. (nZones=1)\n",
      "Allocating in GPU for Sigma_y_yz 2390301 elem. (nZones=1)\n",
      "Allocating in GPU for Sigma_z_yz 2390301 elem. (nZones=1)\n",
      "Allocating in GPU for Rxx 6635776 elem. (nZones=1)\n",
      "Allocating in GPU for Ryy 6635776 elem. (nZones=1)\n",
      "Allocating in GPU for Rzz 6635776 elem. (nZones=1)\n",
      "Allocating in GPU for Rxy 6744708 elem. (nZones=1)\n",
      "Allocating in GPU for Rxz 6744708 elem. (nZones=1)\n",
      "Allocating in GPU for Ryz 6744708 elem. (nZones=1)\n",
      "Allocating in GPU for LambdaMiuMatOverH 2 elem.\n",
      "Allocating in GPU for LambdaMatOverH 2 elem.\n",
      "Allocating in GPU for MiuMatOverH 2 elem.\n",
      "Allocating in GPU for TauLong 2 elem.\n",
      "Allocating in GPU for OneOverTauSigma 2 elem.\n",
      "Allocating in GPU for TauShear 2 elem.\n",
      "Allocating in GPU for InvRhoMatH 2 elem.\n",
      "Allocating in GPU for Ox 6635776 elem.\n",
      "Allocating in GPU for Oy 6635776 elem.\n",
      "Allocating in GPU for Oz 6635776 elem.\n",
      "Allocating in GPU for IndexSensorMap 31784 elem.\n",
      "Allocating in GPU for SourceFunctions 230 elem.\n",
      "Allocating in GPU for SourceMap 6635776 elem.\n",
      "Allocating in GPU for MaterialMap 6744708 elem.\n",
      "Allocating in GPU for Vx 6676992 elem. (nZones=1)\n",
      "Allocating in GPU for Vy 6676992 elem. (nZones=1)\n",
      "Allocating in GPU for Vz 6661697 elem. (nZones=1)\n",
      "Allocating in GPU for Sigma_xx 6635776 elem. (nZones=1)\n",
      "Allocating in GPU for Sigma_yy 6635776 elem. (nZones=1)\n",
      "Allocating in GPU for Sigma_zz 6635776 elem. (nZones=1)\n",
      "Allocating in GPU for Sigma_xy 6744708 elem. (nZones=1)\n",
      "Allocating in GPU for Sigma_xz 6744708 elem. (nZones=1)\n",
      "Allocating in GPU for Sigma_yz 6744708 elem. (nZones=1)\n",
      "Allocating in GPU for Snapshots 25921 elem.\n",
      "Allocating in GPU for SensorOutput 99547488 elem.\n",
      "Allocating in GPU for SqrAcc 46450432 elem.\n",
      "size of  InputDataKernel =432\n",
      "minGridSize and Blocksize from API for stress = 48 and 640\n",
      " Stress block size to 8x8x10\n",
      " Stress grid size to 21x21x26\n",
      "minGridSize and Blocksize from API for Particle = 48 and 640\n",
      " Particle block size to 8x8x10\n",
      " Particle grid size to 21x21x26\n",
      "N1:minGridSize and Blocksize from API for SnapShot = 48 and 1024\n",
      " Snapshot block size to 8x128\n",
      " Snapshot grid size to 21x2\n",
      "minGridSize and Blocksize from API for SensorsKernel = 48 and 1024\n",
      " set sensor block size to 1024x1\n",
      " set sensor grid size to 32x1\n",
      "GPU memory usage: used = 2339.375000, free = 5852.625000 MB, total = 8192.000000 MB\n",
      "Releasing GPU memory for SensorOutput\n",
      "Releasing GPU memory for V_x_x\n",
      "Releasing GPU memory for V_y_x\n",
      "Releasing GPU memory for V_z_x\n",
      "Releasing GPU memory for V_x_y\n",
      "Releasing GPU memory for V_y_y\n",
      "Releasing GPU memory for V_z_y\n",
      "Releasing GPU memory for V_x_z\n",
      "Releasing GPU memory for V_y_z\n",
      "Releasing GPU memory for V_z_z\n",
      "Releasing GPU memory for Sigma_x_xx\n",
      "Releasing GPU memory for Sigma_y_xx\n",
      "Releasing GPU memory for Sigma_z_xx\n",
      "Releasing GPU memory for Sigma_x_yy\n",
      "Releasing GPU memory for Sigma_y_yy\n",
      "Releasing GPU memory for Sigma_z_yy\n",
      "Releasing GPU memory for Sigma_x_zz\n",
      "Releasing GPU memory for Sigma_y_zz\n",
      "Releasing GPU memory for Sigma_z_zz\n",
      "Releasing GPU memory for Sigma_x_xy\n",
      "Releasing GPU memory for Sigma_y_xy\n",
      "Releasing GPU memory for Sigma_x_xz\n",
      "Releasing GPU memory for Sigma_z_xz\n",
      "Releasing GPU memory for Sigma_y_yz\n",
      "Releasing GPU memory for Sigma_z_yz\n",
      "Releasing GPU memory for LambdaMiuMatOverH\n",
      "Releasing GPU memory for LambdaMatOverH\n",
      "Releasing GPU memory for MiuMatOverH\n",
      "Releasing GPU memory for TauLong\n",
      "Releasing GPU memory for OneOverTauSigma\n",
      "Releasing GPU memory for TauShear\n",
      "Releasing GPU memory for InvRhoMatH\n",
      "Releasing GPU memory for IndexSensorMap\n",
      "Releasing GPU memory for SourceFunctions\n",
      "Releasing GPU memory for SourceMap\n",
      "Releasing GPU memory for Ox\n",
      "Releasing GPU memory for Oy\n",
      "Releasing GPU memory for Oz\n",
      "Releasing GPU memory for MaterialMap\n",
      "Releasing GPU memory for Vx\n",
      "Releasing GPU memory for Vy\n",
      "Releasing GPU memory for Vz\n",
      "Releasing GPU memory for Sigma_xx\n",
      "Releasing GPU memory for Sigma_yy\n",
      "Releasing GPU memory for Sigma_zz\n",
      "Releasing GPU memory for Sigma_xy\n",
      "Releasing GPU memory for Sigma_xz\n",
      "Releasing GPU memory for Sigma_yz\n",
      "Releasing GPU memory for Rxx\n",
      "Releasing GPU memory for Ryy\n",
      "Releasing GPU memory for Rzz\n",
      "Releasing GPU memory for Rxy\n",
      "Releasing GPU memory for Rxz\n",
      "Releasing GPU memory for Ryz\n",
      "Releasing GPU memory for Snapshots\n",
      "Releasing GPU memory for SqrAcc\n",
      "GPU memory remaining (free should be equal to total): used = 1056.750000, free = 7135.250000 MB, total = 8192.000000 MB\n",
      "Number of unfreed allocs (it should be 0):0\n",
      "Execution time = 20.000000\n",
      "Done\n",
      "Time to run low level FDTDStaggered_3D = 20.291008710861206\n"
     ]
    }
   ],
   "source": [
    "Sensor,LastMap,DictRMSValue,InputParam=PModel.StaggeredFDTD_3D_with_relaxation(\n",
    "                                                         MaterialMap,\n",
    "                                                         MaterialList,\n",
    "                                                         Frequency,\n",
    "                                                         SourceMap,\n",
    "                                                         PulseSource,\n",
    "                                                         Ox,\n",
    "                                                         Oy,\n",
    "                                                         Oz,\n",
    "                                                         SpatialStep,\n",
    "                                                         TimeSimulation,\n",
    "                                                         SensorMap,\n",
    "                                                         NDelta=PMLThickness,\n",
    "                                                         ReflectionLimit=ReflectionLimit,\n",
    "                                                         COMPUTING_BACKEND=1,\n",
    "                                                         USE_SINGLE=True,\n",
    "                                                         SelRMSorPeak=1,\n",
    "                                                         SelMapsRMSPeakList=['ALLV','Sigmaxx',\n",
    "                                                                            'Sigmayy','Sigmazz',\n",
    "                                                                            'Sigmaxy','Sigmaxz',\n",
    "                                                                            'Sigmayz'],\n",
    "                                                         DefaultGPUDeviceName='SUPER',\n",
    "                                                         SelMapsSensorsList=['Vx','Vy','Vz',\n",
    "                                                                            'Sigmaxx',\n",
    "                                                                            'Sigmayy','Sigmazz',\n",
    "                                                                            'Sigmaxy','Sigmaxz',\n",
    "                                                                            'Sigmayz'],\n",
    "                                                         SensorSteps=4,\n",
    "                                                         TypeSource=0)"
   ]
  },
  {
   "cell_type": "markdown",
   "metadata": {},
   "source": [
    "### Ploting data"
   ]
  },
  {
   "cell_type": "code",
   "execution_count": 6,
   "metadata": {},
   "outputs": [
    {
     "ename": "NameError",
     "evalue": "name 'DictRMSValue' is not defined",
     "output_type": "error",
     "traceback": [
      "\u001b[0;31m---------------------------------------------------------------------------\u001b[0m",
      "\u001b[0;31mNameError\u001b[0m                                 Traceback (most recent call last)",
      "\u001b[0;32m<ipython-input-6-911c457ffb0c>\u001b[0m in \u001b[0;36m<module>\u001b[0;34m\u001b[0m\n\u001b[1;32m      1\u001b[0m \u001b[0mplt\u001b[0m\u001b[0;34m.\u001b[0m\u001b[0mfigure\u001b[0m\u001b[0;34m(\u001b[0m\u001b[0mfigsize\u001b[0m\u001b[0;34m=\u001b[0m\u001b[0;34m(\u001b[0m\u001b[0;36m18\u001b[0m\u001b[0;34m,\u001b[0m\u001b[0;36m8\u001b[0m\u001b[0;34m)\u001b[0m\u001b[0;34m)\u001b[0m\u001b[0;34m\u001b[0m\u001b[0;34m\u001b[0m\u001b[0m\n\u001b[1;32m      2\u001b[0m \u001b[0mn\u001b[0m\u001b[0;34m=\u001b[0m\u001b[0;36m1\u001b[0m\u001b[0;34m\u001b[0m\u001b[0;34m\u001b[0m\u001b[0m\n\u001b[0;32m----> 3\u001b[0;31m \u001b[0;32mfor\u001b[0m \u001b[0mk\u001b[0m\u001b[0;34m,\u001b[0m\u001b[0mRMSValue\u001b[0m \u001b[0;32min\u001b[0m \u001b[0mDictRMSValue\u001b[0m\u001b[0;34m.\u001b[0m\u001b[0mitems\u001b[0m\u001b[0;34m(\u001b[0m\u001b[0;34m)\u001b[0m\u001b[0;34m:\u001b[0m\u001b[0;34m\u001b[0m\u001b[0;34m\u001b[0m\u001b[0m\n\u001b[0m\u001b[1;32m      4\u001b[0m     \u001b[0;32mfor\u001b[0m \u001b[0ma\u001b[0m \u001b[0;32min\u001b[0m \u001b[0mrange\u001b[0m\u001b[0;34m(\u001b[0m\u001b[0;36m3\u001b[0m\u001b[0;34m)\u001b[0m\u001b[0;34m:\u001b[0m\u001b[0;34m\u001b[0m\u001b[0;34m\u001b[0m\u001b[0m\n\u001b[1;32m      5\u001b[0m         \u001b[0;32mfor\u001b[0m \u001b[0mm\u001b[0m \u001b[0;32min\u001b[0m \u001b[0mrange\u001b[0m\u001b[0;34m(\u001b[0m\u001b[0;34m-\u001b[0m\u001b[0;36m2\u001b[0m\u001b[0;34m,\u001b[0m\u001b[0;36m3\u001b[0m\u001b[0;34m)\u001b[0m\u001b[0;34m:\u001b[0m\u001b[0;34m\u001b[0m\u001b[0;34m\u001b[0m\u001b[0m\n",
      "\u001b[0;31mNameError\u001b[0m: name 'DictRMSValue' is not defined"
     ]
    },
    {
     "data": {
      "text/plain": [
       "<Figure size 1296x576 with 0 Axes>"
      ]
     },
     "metadata": {},
     "output_type": "display_data"
    }
   ],
   "source": [
    "plt.figure(figsize=(18,8))\n",
    "n=1\n",
    "for k,RMSValue in DictRMSValue.items():\n",
    "    for a in range(3):\n",
    "        for m in range(-2,3):\n",
    "            RMSValue[np.roll(SourceMap>0,m,axis=a)]=0. #we turn off the values close the source \n",
    "    plt.subplot(2,4,n)\n",
    "    selP=RMSValue[:,int(N2/2),:].copy()\n",
    "    if 'Sigma' in k:\n",
    "        selP=selP/1e5 \n",
    "    selP[selP==0]=1e-6;\n",
    "    selP=20*np.log10(selP/selP.max())\n",
    "    plt.imshow(selP.T,cmap=plt.cm.jet,vmin=-50)\n",
    "    plt.colorbar()\n",
    "    if 'Sigma' in k:\n",
    "        plt.title('$\\sigma_{'+k.split('Sigma')[1]+'}$')\n",
    "    else:\n",
    "        plt.title(k)\n",
    "    n+=1\n"
   ]
  },
  {
   "cell_type": "markdown",
   "metadata": {},
   "source": [
    "### Plot sensor data maps over time\n",
    "As we collected sensor data for $V_x$, $V_y$, $V_y$, $\\sigma_{xx}$, $\\sigma_{yy}$, $\\sigma_{zz}$, $\\sigma_{xy}$, $\\sigma_{xz}$, and $\\sigma_{xz}$ , we can plot them using a widget to scroll the data over time"
   ]
  },
  {
   "cell_type": "code",
   "execution_count": 9,
   "metadata": {},
   "outputs": [],
   "source": [
    "class ShowTimeData(object):\n",
    "    def __init__(self,N1,N2,N3,InputParam,SourceMap,Sensor,Skip=1):\n",
    "        nL=Sensor['Vx'].shape[1]\n",
    "        IndTime=np.arange(0,nL,Skip)\n",
    "        SensorPlane={}\n",
    "        for k in Sensor:\n",
    "            if k=='time':\n",
    "                continue\n",
    "            SensorPlane[k]=np.zeros((N1,N3,len(IndTime)))\n",
    "        BInd=[]\n",
    "        for n, index in enumerate( InputParam['IndexSensorMap']): \n",
    "            k=int(index/(N1*N2))\n",
    "            j=int(index%(N1*N2))\n",
    "            i=int(j%N1)\n",
    "            j=int(j/N1)\n",
    "            BInd.append([i,j,k])\n",
    "        BInd=np.array(BInd)\n",
    "        for k in SensorPlane:\n",
    "            for nt,et in enumerate(IndTime):\n",
    "                SensorPlane[k][BInd[:,0],BInd[:,2],nt]=Sensor[k][:,et]\n",
    "            if 'Sigma' in k:\n",
    "                SensorPlane[k]/=1e5\n",
    "        self.SensorPlane=SensorPlane\n",
    "        self.fig=None\n",
    "        \n",
    "    def PlotTimePoint(self,timep=0):\n",
    "        if self.fig:\n",
    "            plt.close(self.fig)\n",
    "        \n",
    "        self.fig=plt.figure(figsize=(16,9))\n",
    "        n=1\n",
    "        for k in  self.SensorPlane:\n",
    "            plt.subplot(3,3,n)\n",
    "            plt.imshow(self.SensorPlane[k][:,:,timep].T,cmap=plt.cm.jet)\n",
    "            plt.colorbar()\n",
    "            n+=1\n",
    "            if 'V' in k:\n",
    "                plt.title('$V_'+k.split('V')[1]+'$')\n",
    "            else:\n",
    "                plt.title('$\\sigma_{'+k.split('Sigma')[1]+'}$')\n",
    "        plt.show()\n",
    "        \n",
    "    def SelectTimePoint(self):\n",
    "        Sel=IntSlider(description='Time point',value=0,\n",
    "                        min=0,max=self.SensorPlane[list(self.SensorPlane.keys())[0]].shape[2]-1,step=1,continuous_update=False,\n",
    "                        layout=Layout(width='75%'),style={'description_width': 'initial'})\n",
    "        interact(self.PlotTimePoint,timep=Sel)\n",
    "       \n",
    "        "
   ]
  },
  {
   "cell_type": "code",
   "execution_count": 7,
   "metadata": {
    "scrolled": false
   },
   "outputs": [
    {
     "ename": "NameError",
     "evalue": "name 'ShowTimeData' is not defined",
     "output_type": "error",
     "traceback": [
      "\u001b[0;31m---------------------------------------------------------------------------\u001b[0m",
      "\u001b[0;31mNameError\u001b[0m                                 Traceback (most recent call last)",
      "\u001b[0;32m<ipython-input-7-a6f212588035>\u001b[0m in \u001b[0;36m<module>\u001b[0;34m\u001b[0m\n\u001b[0;32m----> 1\u001b[0;31m \u001b[0mShowTimeData\u001b[0m\u001b[0;34m(\u001b[0m\u001b[0mN1\u001b[0m\u001b[0;34m,\u001b[0m\u001b[0mN2\u001b[0m\u001b[0;34m,\u001b[0m\u001b[0mN3\u001b[0m\u001b[0;34m,\u001b[0m\u001b[0mInputParam\u001b[0m\u001b[0;34m,\u001b[0m\u001b[0mSourceMap\u001b[0m\u001b[0;34m,\u001b[0m\u001b[0mSensor\u001b[0m\u001b[0;34m)\u001b[0m\u001b[0;34m.\u001b[0m\u001b[0mSelectTimePoint\u001b[0m\u001b[0;34m(\u001b[0m\u001b[0;34m)\u001b[0m\u001b[0;34m\u001b[0m\u001b[0;34m\u001b[0m\u001b[0m\n\u001b[0m",
      "\u001b[0;31mNameError\u001b[0m: name 'ShowTimeData' is not defined"
     ]
    }
   ],
   "source": [
    "ShowTimeData(N1,N2,N3,InputParam,SourceMap,Sensor).SelectTimePoint()"
   ]
  },
  {
   "cell_type": "markdown",
   "metadata": {},
   "source": [
    "Because the orientation of the transducer rotated along the $Y$ axis, we can clearly see the P-wave (faster and with longer wavelength) in $\\sigma_{xx}$ and $\\sigma_{zz}$, and the S-wave (slower and with shorter wavelength) in $\\sigma_{xy}$, $\\sigma_{xz}$, $\\sigma_{yz}$"
   ]
  },
  {
   "cell_type": "markdown",
   "metadata": {},
   "source": [
    "# Superposition method\n",
    "\n",
    "In practice, the superposition method consist in combining multiple simulation at low-resolution where each simulation uses a water-solid domain that depends on the level of intersection of the ideal plane representing the water-solid interface.\n",
    "\n",
    "In our example we can plot the *ideal* boundary between the water-solid media."
   ]
  },
  {
   "cell_type": "code",
   "execution_count": 7,
   "metadata": {},
   "outputs": [
    {
     "data": {
      "image/png": "[encoded data removed]",
      "text/plain": [
       "<Figure size 576x432 with 1 Axes>"
      ]
     },
     "metadata": {
      "needs_background": "light"
     },
     "output_type": "display_data"
    }
   ],
   "source": [
    "plt.figure(figsize=(8,6))\n",
    "plt.imshow(MaterialMap[:,int(N2/2)-10,:].T);\n",
    "plt.plot(p0,r0,'r',linewidth=3)\n",
    "ax = plt.gca();\n",
    "ax.set_xticks(np.arange(0, N1, 1));ax.set_yticks(np.arange(0, N3, 1))\n",
    "ax.set_xticks(np.arange(-.5, N1, 1), minor=True);ax.set_yticks(np.arange(-.5, N3, 1), minor=True)\n",
    "ax.grid(which='minor', color='w', linestyle='-', linewidth=1)\n",
    "plt.ylim(82,62);plt.xlim(5,30);ax.set_aspect(1)\n"
   ]
  },
  {
   "cell_type": "markdown",
   "metadata": {},
   "source": [
    "We can see that voxels that are roughly 50% or more below the line (<span style=\"color:red\">red</span>) of interface are considered solid (<span style=\"color:yellow;background-color:black\">yellow</span>) while if less of 50% are considered water (<span style=\"color:purple\">purple</span>). However, a more appropriate approach would be to consider the real fraction of solid of voxel inside the region defined as solid.\n",
    "\n",
    "The superposition method solves this problem by running `N` simulations where voxels are classified either solid or water using the following pseudocode\n",
    "```\n",
    "for n=1 to N\n",
    "    for all voxels\n",
    "        if G(voxel) < n/N\n",
    "            voxel is consider solid\n",
    "        else\n",
    "            voxel is considered water\n",
    "```\n",
    "where `G` is the fraction of the voxel inside the region considered as solid. If we run `N=10` simulations, a voxel that has a fraction around 0.3 will be included 3 times as solid (and 7 as water), while a voxel that has a fraction 0.7 will be included 7 times as solid (and 3 as water), and so on. The final result of the simulation is the average of the temporal signals of the `N` simulations.\n",
    "\n",
    "### Use of constructive solid geometry (CSG) to calculate solid fraction of `G` of voxels\n",
    "\n",
    "We will use CSG to calculate the fraction `G`. First, we use simply morphological operations to find the voxels that surround the boundary line."
   ]
  },
  {
   "cell_type": "code",
   "execution_count": 8,
   "metadata": {},
   "outputs": [
    {
     "data": {
      "image/png": "[encoded data removed]",
      "text/plain": [
       "<Figure size 576x432 with 1 Axes>"
      ]
     },
     "metadata": {
      "needs_background": "light"
     },
     "output_type": "display_data"
    }
   ],
   "source": [
    "SolidRegion=MaterialMap!=0\n",
    "SolidRing=np.logical_xor(ndimage.morphology.binary_dilation(SolidRegion),ndimage.morphology.binary_erosion(SolidRegion))\n",
    "\n",
    "plt.figure(figsize=(8,6))\n",
    "plt.imshow(SolidRing[:,int(N2/2),:].T*5);\n",
    "plt.plot(p0,r0,'r',linewidth=3)\n",
    "ax = plt.gca();\n",
    "ax.set_xticks(np.arange(0, N1, 1));ax.set_yticks(np.arange(0, N3, 1))\n",
    "ax.set_xticks(np.arange(-.5, N1, 1), minor=True);ax.set_yticks(np.arange(-.5, N3, 1), minor=True)\n",
    "ax.grid(which='minor', color='w', linestyle='-', linewidth=1)\n",
    "plt.ylim(82,62);plt.xlim(5,30);ax.set_aspect(1)\n"
   ]
  },
  {
   "cell_type": "markdown",
   "metadata": {},
   "source": [
    "As the solid layer is relatively simple, we can use a delaunay operation to build a 3D object. We can use the interactive visualization tools from `pyvistaqt` to inspect the solid object."
   ]
  },
  {
   "cell_type": "code",
   "execution_count": 21,
   "metadata": {},
   "outputs": [
    {
     "data": {
      "application/vnd.jupyter.widget-view+json": {
       "model_id": "703f07b6f34f440ab342fd2039705b42",
       "version_major": 2,
       "version_minor": 0
      },
      "text/plain": [
       "Viewer(geometries=[{'vtkClass': 'vtkPolyData', 'points': {'vtkClass': 'vtkPoints', 'name': '_points', 'numberO…"
      ]
     },
     "metadata": {},
     "output_type": "display_data"
    },
    {
     "data": {
      "application/vnd.jupyter.widget-view+json": {
       "model_id": "703f07b6f34f440ab342fd2039705b42",
       "version_major": 2,
       "version_minor": 0
      },
      "text/plain": [
       "Viewer(geometries=[{'vtkClass': 'vtkPolyData', 'points': {'vtkClass': 'vtkPoints', 'name': '_points', 'numberO…"
      ]
     },
     "metadata": {},
     "output_type": "display_data"
    }
   ],
   "source": [
    "iring,jring,kring=np.where(SolidRing)\n",
    "SolidVertices=np.vstack((np.vstack((p0,np.ones(4)*0.5,r0)).T,np.vstack((p0,np.ones(4)*N2-0.5,r0)).T))\n",
    "cloud = pv.PolyData(SolidVertices)\n",
    "meshSolid = cloud.delaunay_3d().extract_surface()\n",
    "tetSolid = pymesh.form_mesh(meshSolid.points,meshSolid.faces.reshape(-1, 4)[:, 1:]);\n",
    "pla=pv.PlotterITK()\n",
    "pla.add_mesh(meshSolid)\n",
    "pla.show(True)"
   ]
  },
  {
   "cell_type": "markdown",
   "metadata": {},
   "source": [
    "### CSG boolean intersection\n",
    "The CSG operation is computionally intense, it takes a few minutes to complete. We can use the libray `pymp` to run the task in parallel, but still it will take some time. Even if this may look as a detriment, it still remains that other techniques or libraries can be explored to calculate this step. Also, for many FDTD simulations, this step will need to be run only once or very few times depending on the conditions.\n",
    "\n",
    "For simplicity purposes, we are going to load a precalculate result. "
   ]
  },
  {
   "cell_type": "code",
   "execution_count": 22,
   "metadata": {
    "scrolled": false
   },
   "outputs": [],
   "source": [
    "bRecalculate=False\n",
    "if bRecalculate:\n",
    "    GMap=(MaterialMap>0)*1.0\n",
    "    GResults = pymp.shared.array((iring.shape[0]))\n",
    "    with pymp.Parallel(4) as p:\n",
    "        for n in p.range(0, iring.shape[0]):\n",
    "\n",
    "            i=iring[n]\n",
    "            j=jring[n]\n",
    "            k=kring[n]\n",
    "            im=i-0.5\n",
    "            ip=i+0.5\n",
    "            jm=j-0.5\n",
    "            jp=j+0.5\n",
    "            km=k-0.5\n",
    "            kp=k+0.5\n",
    "            pp=np.zeros((8,3))\n",
    "            pp[0,:]=[im,jm,km]\n",
    "            pp[1,:]=[ip,jm,km]\n",
    "            pp[2,:]=[ip,jp,km]\n",
    "            pp[3,:]=[im,jp,km]\n",
    "            pp[4,:]=[im,jm,kp]\n",
    "            pp[5,:]=[ip,jm,kp]\n",
    "            pp[6,:]=[ip,jp,kp]\n",
    "            pp[7,:]=[im,jp,kp]\n",
    "\n",
    "            cloudC = pv.PolyData(pp)\n",
    "            meshCube = cloudC.delaunay_3d().extract_surface()\n",
    "\n",
    "            tetCube = pymesh.form_mesh(meshCube.points,meshCube.faces.reshape(-1, 4)[:, 1:]);\n",
    "            GResults[n] =pymesh.boolean(tetCube, tetSolid,\"intersection\",engine=\"igl\").volume\n",
    "            if (n%5000==0):\n",
    "                p.print(n,len(iring))\n",
    "        \n",
    "    for i,j,k,n in zip(iring,jring,kring,range(iring.shape[0])):\n",
    "            GMap[i,j,k]=GResults[n]       \n",
    "            \n",
    "    np.savez_compressed('GMAPSolid',GMap=GMap)\n",
    "else:\n",
    "    GMap=np.load('GMAPSolid.npz')['GMap']"
   ]
  },
  {
   "cell_type": "code",
   "execution_count": 23,
   "metadata": {
    "scrolled": false
   },
   "outputs": [
    {
     "data": {
      "text/plain": [
       "<matplotlib.colorbar.Colorbar at 0x7fc68c2d4750>"
      ]
     },
     "execution_count": 23,
     "metadata": {},
     "output_type": "execute_result"
    },
    {
     "data": {
      "image/png": "[encoded data removed]",
      "text/plain": [
       "<Figure size 576x432 with 2 Axes>"
      ]
     },
     "metadata": {
      "needs_background": "light"
     },
     "output_type": "display_data"
    }
   ],
   "source": [
    "plt.figure(figsize=(8,6))\n",
    "plt.imshow(GMap[:,int(N2/2),:].T,cmap=plt.cm.Spectral_r);\n",
    "plt.plot(p0,r0,'r',linewidth=3)\n",
    "ax = plt.gca();\n",
    "ax.set_xticks(np.arange(0, N1, 1));ax.set_yticks(np.arange(0, N3, 1))\n",
    "ax.set_xticks(np.arange(-.5, N1, 1), minor=True);ax.set_yticks(np.arange(-.5, N3, 1), minor=True)\n",
    "ax.grid(which='minor', color='w', linestyle='-', linewidth=1)\n",
    "plt.ylim(82,62);plt.xlim(5,30);ax.set_aspect(1)\n",
    "plt.colorbar();"
   ]
  },
  {
   "cell_type": "markdown",
   "metadata": {},
   "source": [
    "We can see how the CSG operation did an accurate result to produce the fraction of each voxel being intersected by the ideal water-solid boundary.\n",
    "\n",
    "---\n"
   ]
  },
  {
   "cell_type": "code",
   "execution_count": null,
   "metadata": {},
   "outputs": [],
   "source": []
  }
 ],
 "metadata": {
  "kernelspec": {
   "display_name": "Python 3",
   "language": "python",
   "name": "python3"
  },
  "language_info": {
   "codemirror_mode": {
    "name": "ipython",
    "version": 3
   },
   "file_extension": ".py",
   "mimetype": "text/x-python",
   "name": "python",
   "nbconvert_exporter": "python",
   "pygments_lexer": "ipython3",
   "version": "3.7.9"
  }
 },
 "nbformat": 4,
 "nbformat_minor": 4
}
